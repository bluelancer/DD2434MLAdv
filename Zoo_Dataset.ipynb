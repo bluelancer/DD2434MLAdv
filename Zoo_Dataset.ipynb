{
 "nbformat": 4,
 "nbformat_minor": 0,
 "metadata": {
  "colab": {
   "name": "Zoo_Dataset.ipynb",
   "version": "0.3.2",
   "provenance": [],
   "collapsed_sections": [],
   "include_colab_link": true
  },
  "kernelspec": {
   "name": "pycharm-c844d85",
   "language": "python",
   "display_name": "PyCharm (DD2434)"
  }
 },
 "cells": [
  {
   "cell_type": "markdown",
   "source": [
    "**Importing libraries**"
   ],
   "metadata": {
    "collapsed": false
   }
  },
  {
   "metadata": {
    "id": "o_H4ljU5Eaaj",
    "colab_type": "code",
    "colab": {}
   },
   "cell_type": "code",
   "source": [
    "import numpy as np\n",
    "import pandas as pd\n",
    "import matplotlib.pyplot as plt\n",
    "from sklearn.metrics import euclidean_distances"
   ],
   "execution_count": 262,
   "outputs": []
  },
  {
   "metadata": {
    "id": "1cwhywOWE5Am",
    "colab_type": "text"
   },
   "cell_type": "markdown",
   "source": [
    "**Importing the dataset, Remove last column to appear as color**"
   ]
  },
  {
   "metadata": {
    "id": "AFL-0BXxEu3O",
    "colab_type": "code",
    "outputId": "3eba2bf3-9c31-4141-97e0-07f91ba30e9c",
    "colab": {
     "base_uri": "https://localhost:8080/",
     "height": 226
    }
   },
   "cell_type": "code",
   "source": [
    "from sklearn.preprocessing import StandardScaler\n",
    "df = pd.read_csv('zoo.csv')\n",
    "df.head()\n",
    "features = list(df.columns)\n",
    "print(features)\n",
    "\n",
    "features.remove('class_type')\n",
    "features.remove('animal_name')\n",
    "\n",
    "print(features)\n",
    "\n",
    "\n",
    "X = df[features].values.astype(np.float32)\n",
    "color = df.class_type\n",
    "\n",
    "\n",
    "print(X.shape)\n",
    "print(color.shape)"
   ],
   "execution_count": 263,
   "outputs": [
    {
     "name": "stdout",
     "output_type": "stream",
     "text": [
      "['animal_name', 'hair', 'feathers', 'eggs', 'milk', 'airborne', 'aquatic', 'predator', 'toothed', 'backbone', 'breathes', 'venomous', 'fins', 'legs', 'tail', 'domestic', 'catsize', 'class_type']\n",
      "['hair', 'feathers', 'eggs', 'milk', 'airborne', 'aquatic', 'predator', 'toothed', 'backbone', 'breathes', 'venomous', 'fins', 'legs', 'tail', 'domestic', 'catsize']\n",
      "(101, 16)\n",
      "(101,)\n"
     ]
    }
   ]
  },
  {
   "cell_type": "markdown",
   "source": [
    "**Find optimal number of eigenvector to be decomposed**"
   ],
   "metadata": {
    "collapsed": false,
    "pycharm": {
     "name": "#%% md\n"
    }
   }
  },
  {
   "metadata": {
    "id": "MXGJwJ3wHZQA",
    "colab_type": "code",
    "outputId": "3cd18bd6-294a-4c7d-c11b-3c5e7a38554c",
    "colab": {
     "base_uri": "https://localhost:8080/",
     "height": 54
    }
   },
   "cell_type": "code",
   "source": [
    "from sklearn.decomposition import PCA\n",
    "\n",
    "pca = PCA().fit(X)\n",
    "plt.plot(np.cumsum(pca.explained_variance_ratio_))\n",
    "plt.grid(color='b', linestyle='-', linewidth=0.1)\n",
    "plt.xlabel('number of components')\n",
    "plt.ylabel('cumulative explained variance');"
   ],
   "execution_count": 264,
   "outputs": [
    {
     "data": {
      "text/plain": "<Figure size 432x288 with 1 Axes>",
      "image/png": "[encoded data removed]"
     },
     "metadata": {
      "needs_background": "light"
     },
     "output_type": "display_data"
    }
   ]
  },
  {
   "cell_type": "markdown",
   "source": [
    "**Apply PCA and calculate data variance**"
   ],
   "metadata": {
    "collapsed": false,
    "pycharm": {
     "name": "#%% md\n"
    }
   }
  },
  {
   "cell_type": "code",
   "execution_count": 265,
   "outputs": [
    {
     "name": "stdout",
     "output_type": "stream",
     "text": [
      "PCA Variance Ratio =  [0.29191086 0.20882927]\n",
      "(101, 2)\n",
      "(101,)\n"
     ]
    },
    {
     "data": {
      "text/plain": "<Figure size 432x288 with 1 Axes>",
      "image/png": "[encoded data removed]"
     },
     "metadata": {
      "needs_background": "light"
     },
     "output_type": "display_data"
    }
   ],
   "source": [
    "from sklearn.decomposition import PCA\n",
    "\n",
    "X_standraded = StandardScaler().fit_transform(X)\n",
    "ipca = PCA(n_components=2)\n",
    "\n",
    "ipca.fit(X_standraded)\n",
    "X_pca = ipca.transform(X)\n",
    "\n",
    "X_pca_variance = ipca.explained_variance_ratio_\n",
    "print (\"PCA Variance Ratio = \", X_pca_variance)\n",
    "print(X_pca.shape)\n",
    "print(color.shape)\n",
    "\n",
    "plt.scatter(X_pca[:, 0], X_pca[:, 1], c=color)\n",
    "plt.axis('equal');"
   ],
   "metadata": {
    "collapsed": false,
    "pycharm": {
     "name": "#%%\n"
    }
   }
  },
  {
   "metadata": {
    "id": "fu4EUTqIHzPf",
    "colab_type": "code",
    "outputId": "bcccd442-d8a1-42b9-8e4b-3ab5bcb3cfa7",
    "colab": {
     "base_uri": "https://localhost:8080/",
     "height": 92
    },
    "pycharm": {
     "name": "#%%\n"
    }
   },
   "cell_type": "code",
   "source": [
    "\"\"\"\n",
    "from sklearn.decomposition import IncrementalPCA\n",
    "\n",
    "X_standraded = StandardScaler().fit_transform(X)\n",
    "ipca = IncrementalPCA(n_components=2, batch_size=3)\n",
    "\n",
    "ipca.fit(X_standraded)\n",
    "X_pca = ipca.transform(X)\n",
    "\n",
    "X_pca_variance = ipca.explained_variance_ratio_\n",
    "print (\"PCA Variance Ratio = \", X_pca_variance)\n",
    "print(X_pca.shape)\n",
    "print(color.shape)\n",
    "\n",
    "plt.scatter(X_pca[:, 0], X_pca[:, 1], c=color)\n",
    "plt.axis('equal');\n",
    "\"\"\""
   ],
   "execution_count": 266,
   "outputs": [
    {
     "data": {
      "text/plain": "'\\nfrom sklearn.decomposition import IncrementalPCA\\n\\nX_standraded = StandardScaler().fit_transform(X)\\nipca = IncrementalPCA(n_components=2, batch_size=3)\\n\\nipca.fit(X_standraded)\\nX_pca = ipca.transform(X)\\n\\nX_pca_variance = ipca.explained_variance_ratio_\\nprint (\"PCA Variance Ratio = \", X_pca_variance)\\nprint(X_pca.shape)\\nprint(color.shape)\\n\\nplt.scatter(X_pca[:, 0], X_pca[:, 1], c=color)\\nplt.axis(\\'equal\\');\\n'"
     },
     "execution_count": 266,
     "metadata": {},
     "output_type": "execute_result"
    }
   ]
  },
  {
   "metadata": {
    "id": "KAF9vbrmjOWv",
    "colab_type": "code",
    "colab": {},
    "pycharm": {
     "name": "#%% md\n"
    }
   },
   "cell_type": "markdown",
   "source": [
    "**Apply MDS and calculate data variance**"
   ]
  },
  {
   "cell_type": "code",
   "execution_count": 267,
   "outputs": [
    {
     "data": {
      "text/plain": "'\\ndata = np.array([[1,1],[2,2],[3,3] ])\\nprint(data.shape)\\nm,n=data.shape\\ndist=np.zeros((m,m))\\n\\ne = euclidean_distances(data)\\nprint (\"euc_dis =\", e)\\nfor i in range(m):\\n        a = data[i]-data\\n        b = np.square(a)\\n        dist[i] = np.sum(b,axis=1).reshape(1,m)\\nprint (\"dist_dis =\", dist)\\n'"
     },
     "execution_count": 267,
     "metadata": {},
     "output_type": "execute_result"
    }
   ],
   "source": [
    "\"\"\"\n",
    "data = np.array([[1,1],[2,2],[3,3] ])\n",
    "print(data.shape)\n",
    "m,n=data.shape\n",
    "dist=np.zeros((m,m))\n",
    "\n",
    "e = euclidean_distances(data)\n",
    "print (\"euc_dis =\", e)\n",
    "for i in range(m):\n",
    "        a = data[i]-data\n",
    "        b = np.square(a)\n",
    "        dist[i] = np.sum(b,axis=1).reshape(1,m)\n",
    "print (\"dist_dis =\", dist)\n",
    "\"\"\""
   ],
   "metadata": {
    "collapsed": false,
    "pycharm": {
     "name": "#%%\n"
    }
   }
  },
  {
   "cell_type": "code",
   "execution_count": 268,
   "outputs": [],
   "source": [
    "def my_mds_classic(data,n_component):\n",
    "    #Init\n",
    "    m,n=data.shape\n",
    "    dist_squ=np.zeros((m,m))\n",
    "    disti=np.zeros(m)\n",
    "    distj=np.zeros(m)\n",
    "    S=np.zeros((m,m))\n",
    "\n",
    "    #[D]ij^2 = ‖yi−yj‖2\n",
    "    for i in range(m):\n",
    "        dist_squ[i] = np.sum(np.square(data[i]-data),axis=1).reshape(1,m)\n",
    "    for i in range(m):\n",
    "        # D_i.^2 = 1/n \\sum {i}{m} [D]ij^2\n",
    "        disti[i] = np.mean(dist_squ[i,:])\n",
    "\n",
    "        # D_.j^2 = 1/n \\sum {j}{m} [D]ij^2\n",
    "        distj[i] = np.mean(dist_squ[:,i])\n",
    "\n",
    "    # D_..^2 = 1/n^2 \\sum {i}{m} \\sum {j}{m} [D]ij^2\n",
    "    distij = np.mean(dist_squ)\n",
    "\n",
    "    # Double Cenetering trick\n",
    "    for i in range(m):\n",
    "        for j in range(m):\n",
    "            S[i,j] = -0.5*(dist_squ[i,j] - disti[i] - distj[j] + distij)\n",
    "\n",
    "    #EVD of S\n",
    "    lamda,V = np.linalg.eigh(S)\n",
    "\n",
    "    # Sort the eigen value from big to small, take the first n_component portion\n",
    "    index = np.argsort(-lamda)[:n_component]\n",
    "\n",
    "    #get Lambda ^1/2\n",
    "    diag_lamda = np.sqrt(np.diag(-np.sort(-lamda)[:n_component]))\n",
    "    print (diag_lamda)\n",
    "\n",
    "    #get U_n_component\n",
    "    V_selected = V[:,index]\n",
    "\n",
    "    # X =  Lambda ^1/2 * get U_n_component\n",
    "    Z = V_selected.dot(diag_lamda)\n",
    "\n",
    "    return Z"
   ],
   "metadata": {
    "collapsed": false,
    "pycharm": {
     "name": "#%%\n"
    }
   }
  },
  {
   "cell_type": "code",
   "execution_count": 269,
   "outputs": [
    {
     "name": "stdout",
     "output_type": "stream",
     "text": [
      "[[21.71930003  0.        ]\n",
      " [ 0.         18.37029514]]\n"
     ]
    },
    {
     "data": {
      "text/plain": "<Figure size 432x288 with 1 Axes>",
      "image/png": "[encoded data removed]"
     },
     "metadata": {
      "needs_background": "light"
     },
     "output_type": "display_data"
    }
   ],
   "source": [
    "X_standraded = StandardScaler().fit_transform(X)\n",
    "\n",
    "X_mds  = my_mds_classic(X_standraded,2)\n",
    "plt.scatter(X_mds[:, 0], X_mds[:, 1], c=color)\n",
    "plt.axis('equal');"
   ],
   "metadata": {
    "collapsed": false,
    "pycharm": {
     "name": "#%%\n"
    }
   }
  },
  {
   "cell_type": "code",
   "execution_count": 270,
   "outputs": [
    {
     "name": "stdout",
     "output_type": "stream",
     "text": [
      "[[20.95755788  0.        ]\n",
      " [ 0.         10.08845312]]\n"
     ]
    },
    {
     "data": {
      "text/plain": "<Figure size 432x288 with 1 Axes>",
      "image/png": "[encoded data removed]"
     },
     "metadata": {
      "needs_background": "light"
     },
     "output_type": "display_data"
    }
   ],
   "source": [
    "X_mds  = my_mds_classic(X,2)\n",
    "plt.scatter(X_mds[:, 0], X_mds[:, 1], c=color)\n",
    "plt.axis('equal');"
   ],
   "metadata": {
    "collapsed": false,
    "pycharm": {
     "name": "#%%\n"
    }
   }
  },
  {
   "cell_type": "code",
   "execution_count": 271,
   "outputs": [
    {
     "data": {
      "text/plain": "Text(0.5, 1.0, 'MDS standrad and later simialrity')"
     },
     "execution_count": 271,
     "metadata": {},
     "output_type": "execute_result"
    },
    {
     "data": {
      "text/plain": "<Figure size 432x288 with 4 Axes>",
      "image/png": "[encoded data removed]"
     },
     "metadata": {
      "needs_background": "light"
     },
     "output_type": "display_data"
    }
   ],
   "source": [
    "\"\"\"\n",
    "from sklearn.manifold import MDS\n",
    "\n",
    "fig, axs = plt.subplots(2, 2)\n",
    "\n",
    "clf2=MDS(2)\n",
    "X_t2=clf2.fit_transform(X)\n",
    "\n",
    "axs[0,0].scatter(X_t2[:, 0], X_t2[:, 1], c=color)\n",
    "axs[0,0].axis('equal');\n",
    "axs[0, 0].set_title(\"MDS data\")\n",
    "\n",
    "dissimilarities = euclidean_distances(X)\n",
    "clf2=MDS(2, dissimilarity = 'precomputed')\n",
    "X_t2=clf2.fit_transform(dissimilarities)\n",
    "\n",
    "axs[0,1].scatter(X_t2[:, 0], X_t2[:, 1], c=color)\n",
    "axs[0,1].axis('equal');\n",
    "axs[0, 1].set_title(\"MDS similarity\")\n",
    "\n",
    "X_standraded = StandardScaler().fit_transform(X)\n",
    "clf2=MDS(2)\n",
    "X_t2=clf2.fit_transform(X_standraded)\n",
    "\n",
    "axs[1,0].scatter(X_t2[:, 0], X_t2[:, 1], c=color)\n",
    "axs[1,0].axis('equal');\n",
    "axs[1,0].set_title(\"MDS data standrad\")\n",
    "\n",
    "X_standraded = StandardScaler().fit_transform(X)\n",
    "dissimilarities = euclidean_distances(X_standraded)\n",
    "clf2=MDS(2, dissimilarity = 'precomputed')\n",
    "X_t2=clf2.fit_transform(dissimilarities)\n",
    "\n",
    "axs[1,1].scatter(X_t2[:, 0], X_t2[:, 1], c=color)\n",
    "axs[1,1].axis('equal');\n",
    "axs[1,1].set_title(\"MDS standrad and later simialrity\")\n",
    "\"\"\""
   ],
   "metadata": {
    "collapsed": false,
    "pycharm": {
     "name": "#%%　\n"
    }
   }
  },
  {
   "cell_type": "code",
   "execution_count": 277,
   "outputs": [
    {
     "name": "stdout",
     "output_type": "stream",
     "text": [
      "nan\n"
     ]
    },
    {
     "name": "stderr",
     "output_type": "stream",
     "text": [
      "/Users/eyifjin/PycharmProjects/DD2434/venv/lib/python3.8/site-packages/sklearn/model_selection/_split.py:670: UserWarning: The least populated class in y has only 4 members, which is less than n_splits=5.\n",
      "  warnings.warn((\"The least populated class in y has only %d\"\n",
      "/Users/eyifjin/PycharmProjects/DD2434/venv/lib/python3.8/site-packages/sklearn/model_selection/_validation.py:548: FitFailedWarning: Estimator fit failed. The score on this train-test partition for these parameters will be set to nan. Details: \n",
      "Traceback (most recent call last):\n",
      "  File \"/Users/eyifjin/PycharmProjects/DD2434/venv/lib/python3.8/site-packages/sklearn/model_selection/_validation.py\", line 531, in _fit_and_score\n",
      "    estimator.fit(X_train, y_train, **fit_params)\n",
      "  File \"/Users/eyifjin/PycharmProjects/DD2434/venv/lib/python3.8/site-packages/sklearn/pipeline.py\", line 330, in fit\n",
      "    Xt = self._fit(X, y, **fit_params_steps)\n",
      "  File \"/Users/eyifjin/PycharmProjects/DD2434/venv/lib/python3.8/site-packages/sklearn/pipeline.py\", line 292, in _fit\n",
      "    X, fitted_transformer = fit_transform_one_cached(\n",
      "  File \"/Users/eyifjin/PycharmProjects/DD2434/venv/lib/python3.8/site-packages/joblib/memory.py\", line 352, in __call__\n",
      "    return self.func(*args, **kwargs)\n",
      "  File \"/Users/eyifjin/PycharmProjects/DD2434/venv/lib/python3.8/site-packages/sklearn/pipeline.py\", line 740, in _fit_transform_one\n",
      "    res = transformer.fit_transform(X, y, **fit_params)\n",
      "  File \"/Users/eyifjin/PycharmProjects/DD2434/venv/lib/python3.8/site-packages/skrebate/relieff.py\", line 239, in fit_transform\n",
      "    self.fit(X, y)\n",
      "  File \"/Users/eyifjin/PycharmProjects/DD2434/venv/lib/python3.8/site-packages/skrebate/relieff.py\", line 137, in fit\n",
      "    self._missing_data_count = np.isnan(self._X).sum()\n",
      "TypeError: ufunc 'isnan' not supported for the input types, and the inputs could not be safely coerced to any supported types according to the casting rule ''safe''\n",
      "\n",
      "  warnings.warn(\"Estimator fit failed. The score on this train-test\"\n"
     ]
    }
   ],
   "source": [
    "from sklearn.pipeline import make_pipeline\n",
    "from skrebate import ReliefF\n",
    "from sklearn.ensemble import RandomForestClassifier\n",
    "from sklearn.model_selection import cross_val_score\n",
    "\n",
    "X_standrad = StandardScaler().fit_transform(X)\n",
    "\n",
    "features, labels = df.drop('class_type', axis=1).values, df['class_type'].values\n",
    "# features =  X_standrad.values\n",
    "# labels = color.values\n",
    "clf = make_pipeline(ReliefF(n_features_to_select=2, n_neighbors=100),\n",
    "                    RandomForestClassifier(n_estimators=100))\n",
    "print(np.mean(cross_val_score(clf, features, labels)))"
   ],
   "metadata": {
    "collapsed": false,
    "pycharm": {
     "name": "#%%\n"
    }
   }
  },
  {
   "cell_type": "code",
   "execution_count": 281,
   "outputs": [],
   "source": [
    "genetic_data = pd.read_csv('https://github.com/EpistasisLab/scikit-rebate/raw/master/data/'\n",
    "                           'GAMETES_Epistasis_2-Way_20atts_0.4H_EDM-1_1.tsv.gz',\n",
    "                           sep='\\t', compression='gzip')"
   ],
   "metadata": {
    "collapsed": false,
    "pycharm": {
     "name": "#%%\n"
    }
   }
  },
  {
   "cell_type": "code",
   "execution_count": 6,
   "outputs": [
    {
     "ename": "NameError",
     "evalue": "name 'genetic_data' is not defined",
     "output_type": "error",
     "traceback": [
      "\u001B[0;31m---------------------------------------------------------------------------\u001B[0m",
      "\u001B[0;31mNameError\u001B[0m                                 Traceback (most recent call last)",
      "\u001B[0;32m<ipython-input-6-2c764b2155bc>\u001B[0m in \u001B[0;36m<module>\u001B[0;34m\u001B[0m\n\u001B[0;32m----> 1\u001B[0;31m \u001B[0mfeatures\u001B[0m\u001B[0;34m,\u001B[0m \u001B[0mlabels\u001B[0m \u001B[0;34m=\u001B[0m \u001B[0mgenetic_data\u001B[0m\u001B[0;34m.\u001B[0m\u001B[0mdrop\u001B[0m\u001B[0;34m(\u001B[0m\u001B[0;34m'class'\u001B[0m\u001B[0;34m,\u001B[0m \u001B[0maxis\u001B[0m\u001B[0;34m=\u001B[0m\u001B[0;36m1\u001B[0m\u001B[0;34m)\u001B[0m\u001B[0;34m.\u001B[0m\u001B[0mvalues\u001B[0m\u001B[0;34m,\u001B[0m \u001B[0mgenetic_data\u001B[0m\u001B[0;34m[\u001B[0m\u001B[0;34m'class'\u001B[0m\u001B[0;34m]\u001B[0m\u001B[0;34m.\u001B[0m\u001B[0mvalues\u001B[0m\u001B[0;34m\u001B[0m\u001B[0;34m\u001B[0m\u001B[0m\n\u001B[0m\u001B[1;32m      2\u001B[0m \u001B[0;34m\u001B[0m\u001B[0m\n\u001B[1;32m      3\u001B[0m clf = make_pipeline(ReliefF(n_features_to_select=2, n_neighbors=100),\n\u001B[1;32m      4\u001B[0m                     RandomForestClassifier(n_estimators=100))\n\u001B[1;32m      5\u001B[0m \u001B[0;34m\u001B[0m\u001B[0m\n",
      "\u001B[0;31mNameError\u001B[0m: name 'genetic_data' is not defined"
     ]
    }
   ],
   "source": [
    "features, labels = genetic_data.drop('class', axis=1).values, genetic_data['class'].values\n",
    "\n",
    "clf = make_pipeline(ReliefF(n_features_to_select=2, n_neighbors=100),\n",
    "                    RandomForestClassifier(n_estimators=100))\n",
    "\n",
    "print(np.mean(cross_val_score(clf, features, labels)))"
   ],
   "metadata": {
    "collapsed": false,
    "pycharm": {
     "name": "#%%\n"
    }
   }
  },
  {
   "cell_type": "markdown",
   "source": [
    "**Apply ISOMAP and calculate data variance**"
   ],
   "metadata": {
    "collapsed": false,
    "pycharm": {
     "name": "#%% md\n"
    }
   }
  },
  {
   "cell_type": "code",
   "execution_count": 272,
   "outputs": [],
   "source": [
    "def dist(a, b):\n",
    "    return np.sqrt(np.sum((a - b) ** 2))\n",
    "def cosine_dist(vA, vB):\n",
    "    cos = np.dot(vA, vB) / (np.sqrt(np.dot(vA,vA)) * np.sqrt(np.dot(vB,vB)))\n",
    "    return  1- cos\n",
    "def ratio_mismatch_dist(a,b):\n",
    "    difference = np.sum(np.abs(a - b))\n",
    "    dist = difference / len(a)\n",
    "    return dist"
   ],
   "metadata": {
    "collapsed": false,
    "pycharm": {
     "name": "#%%\n"
    }
   }
  },
  {
   "cell_type": "code",
   "execution_count": 1,
   "outputs": [],
   "source": [
    "def MDS_metric():\n",
    "    pass"
   ],
   "metadata": {
    "collapsed": false,
    "pycharm": {
     "name": "#%%\n"
    }
   }
  },
  {
   "cell_type": "code",
   "execution_count": 274,
   "outputs": [
    {
     "name": "stdout",
     "output_type": "stream",
     "text": [
      "[1. 0. 0. 1. 0. 0. 0. 1. 1. 1. 0. 0. 4. 1. 0. 1.] [0. 0. 1. 0. 0. 1. 1. 1. 1. 0. 0. 1. 0. 1. 0. 0.]\n"
     ]
    }
   ],
   "source": [
    "dist(X[1,],X[2,])\n",
    "cosine_dist(X[1,],X[2,])\n",
    "ratio_mismatch_dist(X[1,],X[2,])\n",
    "print(X[1,],X[2,])"
   ],
   "metadata": {
    "collapsed": false,
    "pycharm": {
     "name": "#%%\n"
    }
   }
  },
  {
   "cell_type": "code",
   "execution_count": 274,
   "outputs": [],
   "source": [],
   "metadata": {
    "collapsed": false,
    "pycharm": {
     "name": "#%%\n"
    }
   }
  }
 ]
}